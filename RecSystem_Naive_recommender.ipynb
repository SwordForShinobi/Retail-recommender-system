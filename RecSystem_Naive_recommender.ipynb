{
  "nbformat": 4,
  "nbformat_minor": 0,
  "metadata": {
    "colab": {
      "name": "RecSystem: Naive recommender.ipynb",
      "provenance": [],
      "collapsed_sections": [],
      "authorship_tag": "ABX9TyOH4TSx+3Bdkwxw7uuG091Q",
      "include_colab_link": true
    },
    "kernelspec": {
      "name": "python3",
      "display_name": "Python 3"
    },
    "language_info": {
      "name": "python"
    }
  },
  "cells": [
    {
      "cell_type": "markdown",
      "metadata": {
        "id": "view-in-github",
        "colab_type": "text"
      },
      "source": [
        "<a href=\"https://colab.research.google.com/github/SwordForShinobi/Retail-recommender-system/blob/main/RecSystem_Naive_recommender.ipynb\" target=\"_parent\"><img src=\"https://colab.research.google.com/assets/colab-badge.svg\" alt=\"Open In Colab\"/></a>"
      ]
    },
    {
      "cell_type": "code",
      "execution_count": null,
      "metadata": {
        "id": "9nsMbw7Xoq5w"
      },
      "outputs": [],
      "source": [
        "import numpy as np\n",
        "import pandas as pd\n",
        "import random"
      ]
    },
    {
      "cell_type": "code",
      "execution_count": null,
      "metadata": {
        "id": "HN_XvI3mgW-I"
      },
      "outputs": [],
      "source": [
        "class Recommender:\n",
        "  '''data must be DataFrame, others args(columns' names) - strings'''\n",
        "\n",
        "  def __init__(self, data, order_column, user_column, product_column):# класс будет сам группировать исходный датафрейм для дальнейшей работы\n",
        "      self.data = data\n",
        "      self.order_column = order_column\n",
        "      self.user_column = user_column\n",
        "      self.product_column = product_column\n",
        "      self.grouped = self.data.groupby([self.order_column, self.user_column])[self.product_column].apply(lambda x: list(set(x))).reset_index()\n",
        "\n",
        "  def show_gpouped(self): # просто для просмотра группировки\n",
        "    df = self.grouped\n",
        "    return df\n",
        "  \n",
        "  def predict_user(self, user_number):\n",
        "    '''input integer'''\n",
        "    if len(self.grouped[self.grouped[self.user_column] == user_number][self.user_column]) > 0:\n",
        "      example = self.grouped[self.grouped[self.user_column] == user_number]\n",
        "      items = example.product_id.explode().value_counts().reset_index()\n",
        "      items.columns = ['product_id', 'amount']\n",
        "      print(f'For user# {user_number} we suggest next items: {items['product_id'].tolist()}')\n",
        "    else:\n",
        "      print('There is no such user =(')\n",
        "    \n",
        "\n",
        "  def predict_many_users(self, users_ids):\n",
        "    '''users_ids - list of integers'''\n",
        "    who = self.grouped.loc[self.grouped[self.user_column].isin(users_ids)]\n",
        "    users_row = list(set(who[self.user_column]))\n",
        "    top10_row = []\n",
        "\n",
        "    for i in users_ids:\n",
        "      example = self.grouped[self.grouped[self.user_column] == i]\n",
        "      items = example.product_id.explode().value_counts().reset_index()\n",
        "      items.columns = ['product_id', 'amount']\n",
        "      top10 = items.head(10).product_id.tolist()\n",
        "      top10_row.append(top10)\n",
        "\n",
        "    answer = pd.DataFrame(users_row, columns=['user'])\n",
        "    answer['top10'] = top10_row\n",
        "    return answer\n",
        "\n",
        "  def lol_prediction(self, users_ids, top_what=25):\n",
        "    # Это гениальный метод, он формирует топ n товаров, (n получает на вход), и рандомом рекоммендует оттуда топ10. Сильно? =)))\n",
        "    # Такой подход уже можно назвать рекоммендательной системой? Мои философские воззрения говорят, что можно. \n",
        "    '''users_ids - list of integers\n",
        "        top_what - set of each user preferences, how many top prefs we take'''\n",
        "    who = self.grouped.loc[self.grouped[self.user_column].isin(users_ids)]\n",
        "    users_row = list(set(who[self.user_column]))\n",
        "    top10_row = []\n",
        "\n",
        "    for i in users_row:\n",
        "      example = self.grouped[self.grouped[self.user_column] == i]\n",
        "      items = example.product_id.explode().value_counts().reset_index()\n",
        "      items.columns = ['product_id', 'amount']\n",
        "      top_smth = items.head(top_what).product_id.tolist()\n",
        "      top10 = random.choices(top_smth, k=10)\n",
        "      top10_row.append(top10)\n",
        "\n",
        "    answer = pd.DataFrame(users_row, columns=['user'])\n",
        "    answer['top10'] = top10_row\n",
        "    return answer"
      ]
    },
    {
      "cell_type": "code",
      "source": [
        "# Reading transactions dataframe\n",
        "rec = Recommender(trans, 'order_id', 'user_id', 'product_id')"
      ],
      "metadata": {
        "id": "hAyoQWR_pLJP"
      },
      "execution_count": null,
      "outputs": []
    },
    {
      "cell_type": "code",
      "source": [
        "# Showing grouped dataframe (orders counted for each user)\n",
        "rec.show_gpouped().head()"
      ],
      "metadata": {
        "id": "XwRFD24JpPCL"
      },
      "execution_count": null,
      "outputs": []
    },
    {
      "cell_type": "code",
      "source": [
        "# Predictions for a user\n",
        "rec.predict_user(1)"
      ],
      "metadata": {
        "id": "LL3gGbXLpQs2"
      },
      "execution_count": null,
      "outputs": []
    },
    {
      "cell_type": "code",
      "source": [
        "# Predictions for desired users\n",
        "rec.lol_prediction(trans['user_id'].unique().tolist(), 10)"
      ],
      "metadata": {
        "id": "IfIEU-4zpSrU"
      },
      "execution_count": null,
      "outputs": []
    }
  ]
}