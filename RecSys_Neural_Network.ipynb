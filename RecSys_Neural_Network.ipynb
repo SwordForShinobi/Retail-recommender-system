{
  "nbformat": 4,
  "nbformat_minor": 0,
  "metadata": {
    "colab": {
      "name": "RecSys: Neural Network.ipynb",
      "provenance": [],
      "collapsed_sections": [],
      "toc_visible": true,
      "mount_file_id": "1Xw-VkOn2uqwFraF8zauMOFHgA4CxBHRD",
      "authorship_tag": "ABX9TyNv2D7D/EttQ63G/QQXM92l",
      "include_colab_link": true
    },
    "kernelspec": {
      "name": "python3",
      "display_name": "Python 3"
    },
    "language_info": {
      "name": "python"
    }
  },
  "cells": [
    {
      "cell_type": "markdown",
      "metadata": {
        "id": "view-in-github",
        "colab_type": "text"
      },
      "source": [
        "<a href=\"https://colab.research.google.com/github/SwordForShinobi/Retail-recommender-system/blob/main/RecSys_Neural_Network.ipynb\" target=\"_parent\"><img src=\"https://colab.research.google.com/assets/colab-badge.svg\" alt=\"Open In Colab\"/></a>"
      ]
    },
    {
      "cell_type": "code",
      "execution_count": null,
      "metadata": {
        "id": "dVjgXiLgHcQj"
      },
      "outputs": [],
      "source": [
        "!pip install livelossplot\n",
        "\n",
        "import pandas as pd\n",
        "import numpy as np\n",
        "import tensorflow as tf\n",
        "import gc\n",
        "import random\n",
        "from sklearn.metrics import accuracy_score\n",
        "from keras.regularizers import L1, L2\n",
        "from livelossplot.tf_keras import PlotLossesCallback\n",
        "from sklearn.preprocessing  import StandardScaler "
      ]
    },
    {
      "cell_type": "markdown",
      "source": [
        "# Prepare features from transactions"
      ],
      "metadata": {
        "id": "RtggiUzsRU5t"
      }
    },
    {
      "cell_type": "markdown",
      "source": [
        "## Step 1"
      ],
      "metadata": {
        "id": "_S5ZNht3RREq"
      }
    },
    {
      "cell_type": "code",
      "source": [
        "trans = pd.read_csv('your_directory') # main/Data/transactions_probe.csv in this repository\n",
        "max_order_number = trans.groupby('user_id')['order_number'].max().to_frame('max_orders').reset_index()\n",
        "order_details = trans[['user_id', 'order_id', 'product_id', 'add_to_cart_order', 'reordered']]\n",
        "each_user_reord_mean = trans.groupby('user_id')['reordered'].mean().to_frame('user_reordered_ratio').reset_index()\n",
        "item_pos_mean = trans.groupby(['user_id', 'product_id'])['add_to_cart_order'].mean().sort_values().reset_index()\n",
        "trans_1 = trans.merge(max_order_number, on=['user_id'], how='left')\n",
        "trans_1['diff'] = trans_1['max_orders'] - trans_1['order_number']\n",
        "two_plus_four = max_order_number.merge(each_user_reord_mean, on='user_id', how='left')\n",
        "\n",
        "del each_user_reord_mean\n",
        "gc.collect()\n",
        "\n",
        "purchases = trans.groupby('product_id')['order_id'].count().to_frame('product_total_purchases').reset_index()\n",
        "reo_mean = trans.groupby('product_id')['reordered'].mean().to_frame('reordered_mean').reset_index()\n",
        "nine_plus_ten = purchases.merge(reo_mean, on='product_id', how='left')\n",
        "\n",
        "del reo_mean\n",
        "gc.collect()"
      ],
      "metadata": {
        "cellView": "code",
        "id": "ONkq0XX5JvPA",
        "colab": {
          "base_uri": "https://localhost:8080/"
        },
        "outputId": "d50daf94-fee3-4fd9-dd4e-257ec4963c02"
      },
      "execution_count": null,
      "outputs": [
        {
          "output_type": "execute_result",
          "data": {
            "text/plain": [
              "0"
            ]
          },
          "metadata": {},
          "execution_count": 4
        }
      ]
    },
    {
      "cell_type": "markdown",
      "source": [
        "## Step 2"
      ],
      "metadata": {
        "id": "x3Lg7SCHL1Pw"
      }
    },
    {
      "cell_type": "code",
      "source": [
        "nine_plus_ten = nine_plus_ten.fillna(0)\n",
        "trans_2 = trans_1.groupby(['user_id','product_id'])['order_id'].count().to_frame('order_id_count').reset_index().sort_values(by=['user_id', 'order_id_count'], ascending = [True, False])\n",
        "first_time = trans_1.groupby(['user_id','product_id'])['order_number'].min().reset_index()\n",
        "last_time = trans_1.groupby('user_id')['order_number'].max().to_frame('total_orders').reset_index()\n",
        "all_time = pd.merge(last_time, first_time, on='user_id', how='right')\n",
        "all_time.columns = ['user_id', 'max_order_number','product_id', 'min_order_number']\n",
        "all_time['order_number_delta'] = all_time['max_order_number'] - all_time['min_order_number'] + 1\n",
        "all_time = all_time.sort_values(by=['user_id', 'order_number_delta'], ascending = [True, False])\n",
        "df_user_product_ratio = pd.merge(trans_2, all_time, on=['user_id', 'product_id'], how='left')\n",
        "df_user_product_ratio['waaaat_column'] = df_user_product_ratio['order_id_count'] / df_user_product_ratio['order_number_delta']\n",
        "df_user_product_ratio.sort_values(by=['user_id', 'waaaat_column'], ascending=[True, False])\n",
        "\n",
        "del all_time\n",
        "del first_time\n",
        "del df_user_product_ratio['order_id_count']\n",
        "del df_user_product_ratio['max_order_number']\n",
        "del df_user_product_ratio['min_order_number']\n",
        "del df_user_product_ratio['order_number_delta']\n",
        "gc.collect()\n",
        "\n",
        "trans_2 = trans_2.merge(df_user_product_ratio, on=['user_id', 'product_id'], how='left')\n",
        "trans_2 = trans_2.sort_values(by=['user_id', 'waaaat_column'], ascending=[True, False])\n",
        "\n",
        "del df_user_product_ratio\n",
        "gc.collect()"
      ],
      "metadata": {
        "cellView": "code",
        "colab": {
          "base_uri": "https://localhost:8080/"
        },
        "id": "TAcPMDTajF49",
        "outputId": "bf671c98-7b50-4b08-d4b5-6f46bdf85adf"
      },
      "execution_count": null,
      "outputs": [
        {
          "output_type": "execute_result",
          "data": {
            "text/plain": [
              "0"
            ]
          },
          "metadata": {},
          "execution_count": 5
        }
      ]
    },
    {
      "cell_type": "markdown",
      "source": [
        "## Step 3"
      ],
      "metadata": {
        "id": "BKIPnYzAL3V5"
      }
    },
    {
      "cell_type": "code",
      "source": [
        "trans_1['back_order_no'] = trans_1.groupby('user_id')['order_number'].transform(max) - trans_1['order_number'] + 1\n",
        "last_5_orders = trans_1[trans_1['back_order_no'] <= 5]\n",
        "train = last_5_orders[last_5_orders['diff'] > 1]\n",
        "test = last_5_orders[last_5_orders['diff'] < 1]\n",
        "train_grouped = train.groupby(['user_id','product_id'])[['order_id']].count()\n",
        "train_grouped.columns = ['count']\n",
        "test_grouped = test.groupby(['user_id','product_id'])[['order_id']].count()\n",
        "test_grouped.columns = ['count']\n",
        "last_5_orders_reordered = last_5_orders.groupby(['user_id','product_id'])[['reordered']].max()\n",
        "train_grouped = train_grouped.merge(last_5_orders_reordered, on=['user_id', 'product_id'], how='left')\n",
        "train_grouped = train_grouped.fillna(0) \n",
        "test_grouped = test_grouped.merge(last_5_orders_reordered, on=['user_id', 'product_id'], how='left')\n",
        "test_grouped = test_grouped.fillna(0)\n",
        "\n",
        "del last_5_orders_reordered\n",
        "gc.collect()"
      ],
      "metadata": {
        "colab": {
          "base_uri": "https://localhost:8080/"
        },
        "id": "gV7vx9oAMyXO",
        "outputId": "a7f916d7-7601-485b-eb2d-f696f37dfb6f"
      },
      "execution_count": null,
      "outputs": [
        {
          "output_type": "execute_result",
          "data": {
            "text/plain": [
              "613"
            ]
          },
          "metadata": {},
          "execution_count": 11
        }
      ]
    },
    {
      "cell_type": "markdown",
      "source": [
        "## Step 4"
      ],
      "metadata": {
        "id": "_2NAElDTPrez"
      }
    },
    {
      "cell_type": "code",
      "source": [
        "trans_2_train = trans_2.merge(train_grouped, on=['user_id', 'product_id'])\n",
        "train = pd.merge(trans_2_train, two_plus_four, on='user_id')\n",
        "train = train.merge(nine_plus_ten, on='product_id')\n",
        "trans_2_test = trans_2.merge(test_grouped, on=['user_id', 'product_id'])\n",
        "test = pd.merge(trans_2_test, two_plus_four, on='user_id')\n",
        "test = test.merge(nine_plus_ten, on='product_id')"
      ],
      "metadata": {
        "id": "qlYZ_f5RPr1g"
      },
      "execution_count": null,
      "outputs": []
    },
    {
      "cell_type": "markdown",
      "source": [
        "## Final preparations"
      ],
      "metadata": {
        "id": "AUA8_iDSTVqX"
      }
    },
    {
      "cell_type": "code",
      "source": [
        "y_train = train['reordered'].ravel()# train target\n",
        "x_train = train.drop(['reordered'], axis=1)# train features\n",
        "y_test = test['reordered'].ravel()# test target\n",
        "x_test = test.drop(['reordered'], axis=1)# test features"
      ],
      "metadata": {
        "id": "UZ2ylOayOpF4"
      },
      "execution_count": null,
      "outputs": []
    },
    {
      "cell_type": "code",
      "source": [
        "scale_features_std = StandardScaler()"
      ],
      "metadata": {
        "id": "rH2aOtyy2jg5"
      },
      "execution_count": null,
      "outputs": []
    },
    {
      "cell_type": "code",
      "source": [
        "# For train:\n",
        "user_train = x_train[['user_id', 'max_orders', 'user_reordered_ratio']]\n",
        "scaler = scale_features_std.fit(user_train)\n",
        "user_train = scale_features_std.transform(user_train)\n",
        "\n",
        "product_train = x_train[['product_id', 'order_id_count', 'waaaat_column', 'count', 'product_total_purchases', 'reordered_mean']]\n",
        "# waaaat_column = order_id_count / (last_order_number - first_order_number ratio)\n",
        "scaler = scale_features_std.fit(product_train)\n",
        "product_train = scale_features_std.transform(product_train)\n",
        "\n",
        "#For test:\n",
        "user_test = x_test[['user_id', 'max_orders', 'user_reordered_ratio']]\n",
        "scaler = scale_features_std.fit(user_test)\n",
        "user_test = scale_features_std.transform(user_test)\n",
        "\n",
        "product_test = x_test[['product_id', 'order_id_count', 'waaaat_column', 'count', 'product_total_purchases', 'reordered_mean']]\n",
        "scaler = scale_features_std.fit(product_test)\n",
        "product_test = scale_features_std.transform(product_test)"
      ],
      "metadata": {
        "id": "TLUrxp4p2yMq"
      },
      "execution_count": null,
      "outputs": []
    },
    {
      "cell_type": "markdown",
      "source": [
        "# Model building and predictions"
      ],
      "metadata": {
        "id": "UdkEk5my9_5i"
      }
    },
    {
      "cell_type": "code",
      "source": [
        "def Model(layers_ammount, l2_rate, dense_start_out=64, lr=1e-3):\n",
        "\n",
        "  user_input = tf.keras.Input(3,)\n",
        "  product_input = tf.keras.Input(6,)\n",
        "\n",
        "  user_flatten = tf.keras.layers.Flatten()(user_input)\n",
        "  product_flatten = tf.keras.layers.Flatten()(product_input)\n",
        "  concat_layer = tf.keras.layers.concatenate([user_flatten , product_flatten])\n",
        "\n",
        "\n",
        "  dense = tf.keras.layers.Dense(dense_start_out, activation='relu', kernel_regularizer=L2(l2_rate))(concat_layer)\n",
        "  for i in range(1, layers_ammount+1):\n",
        "    dense = tf.keras.layers.Dense(dense_start_out/2//i, activation='relu', kernel_regularizer=L2(l2_rate))(dense)\n",
        "  output = tf.keras.layers.Dense(1, activation='sigmoid')(dense)\n",
        "\n",
        "  model = tf.keras.Model(inputs=[user_input, product_input], outputs=output)\n",
        "\n",
        "  model.compile(loss='mse',\n",
        "                optimizer=tf.keras.optimizers.Adam(learning_rate=lr),\n",
        "                metrics='mse')\n",
        "  return model"
      ],
      "metadata": {
        "id": "kxm-fpTHYjEz"
      },
      "execution_count": null,
      "outputs": []
    },
    {
      "cell_type": "code",
      "source": [
        "model = Model(2, 0.01) # create model with this parameters and load provided weights (from main/Data/checkpoint.h5)"
      ],
      "metadata": {
        "id": "QJVVJ5ZpYzkX"
      },
      "execution_count": null,
      "outputs": []
    },
    {
      "cell_type": "code",
      "source": [
        "tf.keras.utils.plot_model(model, show_shapes=True) # allows to look on what we got"
      ],
      "metadata": {
        "id": "LrhnY1BdSMb8"
      },
      "execution_count": null,
      "outputs": []
    },
    {
      "cell_type": "code",
      "source": [
        "plot_losses = PlotLossesCallback()\n",
        "\n",
        "path = 'desired path'\n",
        "checkpoint = tf.keras.callbacks.ModelCheckpoint(path, monitor='val_mse', verbose=1, save_best_only=True, mode='min')"
      ],
      "metadata": {
        "id": "UWqrx1qrW0kj"
      },
      "execution_count": null,
      "outputs": []
    },
    {
      "cell_type": "code",
      "source": [
        "# You can refit model or just load provided weights in a cell below. Although fitting is not recommended for our probe dataset is rather small\n",
        "hist = model_3_e2_64.fit([user_train, product_train], #input\n",
        "                 y_train, # labels\n",
        "                 batch_size=32, epochs=10, validation_split=0.25,\n",
        "                 callbacks=[plot_losses, checkpoint])"
      ],
      "metadata": {
        "colab": {
          "base_uri": "https://localhost:8080/",
          "height": 741
        },
        "id": "4AJkCytBtO_D",
        "outputId": "c4f43203-0c4f-4cb4-b186-c42f8eb8c3e6"
      },
      "execution_count": null,
      "outputs": [
        {
          "output_type": "display_data",
          "data": {
            "image/png": "[encoded data removed]",
            "text/plain": [
              "<Figure size 864x576 with 2 Axes>"
            ]
          },
          "metadata": {
            "needs_background": "light"
          }
        },
        {
          "output_type": "stream",
          "name": "stdout",
          "text": [
            "Loss\n",
            "\ttraining         \t (min:    0.002, max:    0.218, cur:    0.002)\n",
            "\tvalidation       \t (min:    0.002, max:    0.262, cur:    0.002)\n",
            "Mean Squared Error\n",
            "\ttraining         \t (min:    0.000, max:    0.203, cur:    0.000)\n",
            "\tvalidation       \t (min:    0.000, max:    0.262, cur:    0.000)\n",
            "\n",
            "Epoch 00010: val_mse did not improve from 0.00009\n",
            "\b\b\b\b\b\b\b\b\b\b\b\b\b\b\b\b\b\b\b\b\b\b\b\b\b\b\b\b\b\b\b\b\b\b\b\b\b\b\b\b\b\b\b\b\b\b\b\b\b\b\b\b\b\b\b\b\b\b\b\b\b\b\b\b\b\b\b\b\b\b\b\b\b\b\b\b\b\b\b\b\b\b\b\b\b\b\b\r56702/56702 [==============================] - 251s 4ms/step - loss: 0.0020 - mse: 2.2548e-04 - val_loss: 0.0018 - val_mse: 1.1837e-04\n"
          ]
        }
      ]
    },
    {
      "cell_type": "code",
      "source": [
        "model.load_weights('your directory') # weights from this rep: train/Data/checkpoint.h5"
      ],
      "metadata": {
        "id": "PMI2mQdN6SUe"
      },
      "execution_count": null,
      "outputs": []
    },
    {
      "cell_type": "code",
      "source": [
        "# Evaluate predictions\n",
        "predicts_original = model.predict([user_test, product_test])\n",
        "\n",
        "preds_real = []\n",
        "for i in predicts_original:\n",
        "  if i > 0.5: # sigmoid threshold to get our ones and zeros\n",
        "    preds_real.append(1)\n",
        "  else:\n",
        "    preds_real.append(0)\n",
        "\n",
        "accu = accuracy_score(y_test, preds_real)\n",
        "accu # look at the accuracy"
      ],
      "metadata": {
        "id": "KfOyml0KvEBb"
      },
      "execution_count": null,
      "outputs": []
    },
    {
      "cell_type": "markdown",
      "source": [
        "# Getting our top10"
      ],
      "metadata": {
        "id": "_Y2F7KrV_lrR"
      }
    },
    {
      "cell_type": "code",
      "source": [
        "# this is a top10 products for each user, obtained from naive recommender algorithm. It will be in main/Data/top_10_list.npy\n",
        "# necessarily create this list\n",
        "top_10 = np.load('your_directory', allow_pickle=True)"
      ],
      "metadata": {
        "id": "pZ2UQyt1AlXr"
      },
      "execution_count": null,
      "outputs": []
    },
    {
      "cell_type": "code",
      "source": [
        "# create dataframe with raw sigmoid column, sorted from high to low\n",
        "def create_predicted_df(users, products, predictions, columns=['user_id', 'product_id', 'predictions']):\n",
        "    predicted_df = pd.DataFrame(list(zip(users, products, predictions)), columns=columns)\n",
        "    def extract_value(array):\n",
        "      return array[0]\n",
        "    predicted_df['predictions'] = predicted_df['predictions'].apply(extract_value)\n",
        "    predicted_df = predicted_df.sort_values(by=['user_id', 'predictions'], ascending=[True, False])\n",
        "    return predicted_df"
      ],
      "metadata": {
        "id": "7SThHxyVKThv"
      },
      "execution_count": null,
      "outputs": []
    },
    {
      "cell_type": "code",
      "source": [
        "rec_df = create_predicted_df(x_test['user_id'], x_test['product_id'], predicts_original, columns=['user_id', 'product_id', 'predictions'])\n",
        "rec_df # that's how it looks"
      ],
      "metadata": {
        "colab": {
          "base_uri": "https://localhost:8080/",
          "height": 424
        },
        "id": "zqDSP3E9KVNF",
        "outputId": "8a7b8c2c-d28f-4b03-89df-d69b6d850d26"
      },
      "execution_count": null,
      "outputs": [
        {
          "output_type": "execute_result",
          "data": {
            "text/html": [
              "\n",
              "  <div id=\"df-eac7acd2-fde1-43d5-bf9a-72659e147081\">\n",
              "    <div class=\"colab-df-container\">\n",
              "      <div>\n",
              "<style scoped>\n",
              "    .dataframe tbody tr th:only-of-type {\n",
              "        vertical-align: middle;\n",
              "    }\n",
              "\n",
              "    .dataframe tbody tr th {\n",
              "        vertical-align: top;\n",
              "    }\n",
              "\n",
              "    .dataframe thead th {\n",
              "        text-align: right;\n",
              "    }\n",
              "</style>\n",
              "<table border=\"1\" class=\"dataframe\">\n",
              "  <thead>\n",
              "    <tr style=\"text-align: right;\">\n",
              "      <th></th>\n",
              "      <th>user_id</th>\n",
              "      <th>product_id</th>\n",
              "      <th>predictions</th>\n",
              "    </tr>\n",
              "  </thead>\n",
              "  <tbody>\n",
              "    <tr>\n",
              "      <th>0</th>\n",
              "      <td>1</td>\n",
              "      <td>196</td>\n",
              "      <td>0.975069</td>\n",
              "    </tr>\n",
              "    <tr>\n",
              "      <th>1098</th>\n",
              "      <td>1</td>\n",
              "      <td>12427</td>\n",
              "      <td>0.974666</td>\n",
              "    </tr>\n",
              "    <tr>\n",
              "      <th>1309</th>\n",
              "      <td>1</td>\n",
              "      <td>10258</td>\n",
              "      <td>0.970747</td>\n",
              "    </tr>\n",
              "    <tr>\n",
              "      <th>1408</th>\n",
              "      <td>1</td>\n",
              "      <td>25133</td>\n",
              "      <td>0.967029</td>\n",
              "    </tr>\n",
              "    <tr>\n",
              "      <th>1590</th>\n",
              "      <td>1</td>\n",
              "      <td>46149</td>\n",
              "      <td>0.929090</td>\n",
              "    </tr>\n",
              "    <tr>\n",
              "      <th>...</th>\n",
              "      <td>...</td>\n",
              "      <td>...</td>\n",
              "      <td>...</td>\n",
              "    </tr>\n",
              "    <tr>\n",
              "      <th>692610</th>\n",
              "      <td>206209</td>\n",
              "      <td>31477</td>\n",
              "      <td>0.695112</td>\n",
              "    </tr>\n",
              "    <tr>\n",
              "      <th>844490</th>\n",
              "      <td>206209</td>\n",
              "      <td>38730</td>\n",
              "      <td>0.683582</td>\n",
              "    </tr>\n",
              "    <tr>\n",
              "      <th>620478</th>\n",
              "      <td>206209</td>\n",
              "      <td>6567</td>\n",
              "      <td>0.670001</td>\n",
              "    </tr>\n",
              "    <tr>\n",
              "      <th>885094</th>\n",
              "      <td>206209</td>\n",
              "      <td>22920</td>\n",
              "      <td>0.654735</td>\n",
              "    </tr>\n",
              "    <tr>\n",
              "      <th>68584</th>\n",
              "      <td>206209</td>\n",
              "      <td>14197</td>\n",
              "      <td>0.507085</td>\n",
              "    </tr>\n",
              "  </tbody>\n",
              "</table>\n",
              "<p>1079141 rows × 3 columns</p>\n",
              "</div>\n",
              "      <button class=\"colab-df-convert\" onclick=\"convertToInteractive('df-eac7acd2-fde1-43d5-bf9a-72659e147081')\"\n",
              "              title=\"Convert this dataframe to an interactive table.\"\n",
              "              style=\"display:none;\">\n",
              "        \n",
              "  <svg xmlns=\"http://www.w3.org/2000/svg\" height=\"24px\"viewBox=\"0 0 24 24\"\n",
              "       width=\"24px\">\n",
              "    <path d=\"M0 0h24v24H0V0z\" fill=\"none\"/>\n",
              "    <path d=\"M18.56 5.44l.94 2.06.94-2.06 2.06-.94-2.06-.94-.94-2.06-.94 2.06-2.06.94zm-11 1L8.5 8.5l.94-2.06 2.06-.94-2.06-.94L8.5 2.5l-.94 2.06-2.06.94zm10 10l.94 2.06.94-2.06 2.06-.94-2.06-.94-.94-2.06-.94 2.06-2.06.94z\"/><path d=\"M17.41 7.96l-1.37-1.37c-.4-.4-.92-.59-1.43-.59-.52 0-1.04.2-1.43.59L10.3 9.45l-7.72 7.72c-.78.78-.78 2.05 0 2.83L4 21.41c.39.39.9.59 1.41.59.51 0 1.02-.2 1.41-.59l7.78-7.78 2.81-2.81c.8-.78.8-2.07 0-2.86zM5.41 20L4 18.59l7.72-7.72 1.47 1.35L5.41 20z\"/>\n",
              "  </svg>\n",
              "      </button>\n",
              "      \n",
              "  <style>\n",
              "    .colab-df-container {\n",
              "      display:flex;\n",
              "      flex-wrap:wrap;\n",
              "      gap: 12px;\n",
              "    }\n",
              "\n",
              "    .colab-df-convert {\n",
              "      background-color: #E8F0FE;\n",
              "      border: none;\n",
              "      border-radius: 50%;\n",
              "      cursor: pointer;\n",
              "      display: none;\n",
              "      fill: #1967D2;\n",
              "      height: 32px;\n",
              "      padding: 0 0 0 0;\n",
              "      width: 32px;\n",
              "    }\n",
              "\n",
              "    .colab-df-convert:hover {\n",
              "      background-color: #E2EBFA;\n",
              "      box-shadow: 0px 1px 2px rgba(60, 64, 67, 0.3), 0px 1px 3px 1px rgba(60, 64, 67, 0.15);\n",
              "      fill: #174EA6;\n",
              "    }\n",
              "\n",
              "    [theme=dark] .colab-df-convert {\n",
              "      background-color: #3B4455;\n",
              "      fill: #D2E3FC;\n",
              "    }\n",
              "\n",
              "    [theme=dark] .colab-df-convert:hover {\n",
              "      background-color: #434B5C;\n",
              "      box-shadow: 0px 1px 3px 1px rgba(0, 0, 0, 0.15);\n",
              "      filter: drop-shadow(0px 1px 2px rgba(0, 0, 0, 0.3));\n",
              "      fill: #FFFFFF;\n",
              "    }\n",
              "  </style>\n",
              "\n",
              "      <script>\n",
              "        const buttonEl =\n",
              "          document.querySelector('#df-eac7acd2-fde1-43d5-bf9a-72659e147081 button.colab-df-convert');\n",
              "        buttonEl.style.display =\n",
              "          google.colab.kernel.accessAllowed ? 'block' : 'none';\n",
              "\n",
              "        async function convertToInteractive(key) {\n",
              "          const element = document.querySelector('#df-eac7acd2-fde1-43d5-bf9a-72659e147081');\n",
              "          const dataTable =\n",
              "            await google.colab.kernel.invokeFunction('convertToInteractive',\n",
              "                                                     [key], {});\n",
              "          if (!dataTable) return;\n",
              "\n",
              "          const docLinkHtml = 'Like what you see? Visit the ' +\n",
              "            '<a target=\"_blank\" href=https://colab.research.google.com/notebooks/data_table.ipynb>data table notebook</a>'\n",
              "            + ' to learn more about interactive tables.';\n",
              "          element.innerHTML = '';\n",
              "          dataTable['output_type'] = 'display_data';\n",
              "          await google.colab.output.renderOutput(dataTable, element);\n",
              "          const docLink = document.createElement('div');\n",
              "          docLink.innerHTML = docLinkHtml;\n",
              "          element.appendChild(docLink);\n",
              "        }\n",
              "      </script>\n",
              "    </div>\n",
              "  </div>\n",
              "  "
            ],
            "text/plain": [
              "        user_id  product_id  predictions\n",
              "0             1         196     0.975069\n",
              "1098          1       12427     0.974666\n",
              "1309          1       10258     0.970747\n",
              "1408          1       25133     0.967029\n",
              "1590          1       46149     0.929090\n",
              "...         ...         ...          ...\n",
              "692610   206209       31477     0.695112\n",
              "844490   206209       38730     0.683582\n",
              "620478   206209        6567     0.670001\n",
              "885094   206209       22920     0.654735\n",
              "68584    206209       14197     0.507085\n",
              "\n",
              "[1079141 rows x 3 columns]"
            ]
          },
          "metadata": {},
          "execution_count": 41
        }
      ]
    },
    {
      "cell_type": "code",
      "source": [
        "# transform it slightly\n",
        "ditch = rec_df.groupby('user_id')['product_id'].apply(list).reset_index()"
      ],
      "metadata": {
        "id": "E-LGwsfqPmJf"
      },
      "execution_count": null,
      "outputs": []
    },
    {
      "cell_type": "code",
      "source": [
        "# Add lacking products from each user's top10 which we load above\n",
        "swap =  random.choices(top_10.tolist()[i], k=10)\n",
        "\n",
        "for i in ditch.index:\n",
        "  while len(ditch['product_id'][i]) != 10:\n",
        "    if len(ditch['product_id'][i]) < 10:\n",
        "      ditch['product_id'][i].append([x for x in swap if x not in ditch['product_id'][i]]) # exclude repeats in predictions\n",
        "    elif len(ditch['product_id'][i]) > 10:\n",
        "      ditch['product_id'][i].remove(ditch['product_id'][i][-1])"
      ],
      "metadata": {
        "id": "Ar9U1mOBvveO"
      },
      "execution_count": null,
      "outputs": []
    },
    {
      "cell_type": "code",
      "source": [
        "# filter punctuarion from product list (optional)\n",
        "def filter_punctuation(raw_sample_df):\n",
        "  characters_to_remove = '[],'\n",
        "  clear_items_list = []\n",
        "\n",
        "  for string in raw_sample_df['product_id']:\n",
        "    for i in characters_to_remove:\n",
        "      string = str(string).replace(i, '')\n",
        "    clear_items_list.append(string)\n",
        "  raw_sample_df['product_id'] = clear_items_list\n",
        "  return raw_sample_df"
      ],
      "metadata": {
        "id": "7dfg4eDJS08v"
      },
      "execution_count": null,
      "outputs": []
    },
    {
      "cell_type": "code",
      "source": [
        "# final predictions for our probe\n",
        "answer = filter_punctuation(ditch)"
      ],
      "metadata": {
        "id": "aIfCS6EHMwKl"
      },
      "execution_count": null,
      "outputs": []
    },
    {
      "cell_type": "code",
      "source": [
        "answer # this is how it looks but for full dataset of 100k users"
      ],
      "metadata": {
        "colab": {
          "base_uri": "https://localhost:8080/",
          "height": 424
        },
        "id": "Dsf_7i8mRBaq",
        "outputId": "406cf1bc-0dde-4f8b-eeaf-b995e0608725"
      },
      "execution_count": null,
      "outputs": [
        {
          "output_type": "execute_result",
          "data": {
            "text/html": [
              "\n",
              "  <div id=\"df-856a9954-63d6-4a19-82ec-444928e81008\">\n",
              "    <div class=\"colab-df-container\">\n",
              "      <div>\n",
              "<style scoped>\n",
              "    .dataframe tbody tr th:only-of-type {\n",
              "        vertical-align: middle;\n",
              "    }\n",
              "\n",
              "    .dataframe tbody tr th {\n",
              "        vertical-align: top;\n",
              "    }\n",
              "\n",
              "    .dataframe thead th {\n",
              "        text-align: right;\n",
              "    }\n",
              "</style>\n",
              "<table border=\"1\" class=\"dataframe\">\n",
              "  <thead>\n",
              "    <tr style=\"text-align: right;\">\n",
              "      <th></th>\n",
              "      <th>user_id</th>\n",
              "      <th>product_id</th>\n",
              "    </tr>\n",
              "  </thead>\n",
              "  <tbody>\n",
              "    <tr>\n",
              "      <th>0</th>\n",
              "      <td>1</td>\n",
              "      <td>196 12427 10258 25133 46149 38928 35951 39657 ...</td>\n",
              "    </tr>\n",
              "    <tr>\n",
              "      <th>1</th>\n",
              "      <td>2</td>\n",
              "      <td>47209 24852 18523 19156 1559 33754 16589 7781 ...</td>\n",
              "    </tr>\n",
              "    <tr>\n",
              "      <th>2</th>\n",
              "      <td>3</td>\n",
              "      <td>39190 47766 21903 17668 43961 38167 24852 2389...</td>\n",
              "    </tr>\n",
              "    <tr>\n",
              "      <th>3</th>\n",
              "      <td>7</td>\n",
              "      <td>40852 37602 21137 31683 13198 30391 27690 4727...</td>\n",
              "    </tr>\n",
              "    <tr>\n",
              "      <th>4</th>\n",
              "      <td>13</td>\n",
              "      <td>27086 4210 27435 43086 42248 14197 34382 41926...</td>\n",
              "    </tr>\n",
              "    <tr>\n",
              "      <th>...</th>\n",
              "      <td>...</td>\n",
              "      <td>...</td>\n",
              "    </tr>\n",
              "    <tr>\n",
              "      <th>99995</th>\n",
              "      <td>206202</td>\n",
              "      <td>38837 12919 17038 16797 41177 17459 22220 4585...</td>\n",
              "    </tr>\n",
              "    <tr>\n",
              "      <th>99996</th>\n",
              "      <td>206206</td>\n",
              "      <td>29326 21850 45139 38167 24852 23892 6846 24852...</td>\n",
              "    </tr>\n",
              "    <tr>\n",
              "      <th>99997</th>\n",
              "      <td>206207</td>\n",
              "      <td>44632 36011 13176 39180 33787 33754 48086 2734...</td>\n",
              "    </tr>\n",
              "    <tr>\n",
              "      <th>99998</th>\n",
              "      <td>206208</td>\n",
              "      <td>34213 13176 21137 43086 35939 47626 35688 3428...</td>\n",
              "    </tr>\n",
              "    <tr>\n",
              "      <th>99999</th>\n",
              "      <td>206209</td>\n",
              "      <td>9405 24852 16168 39216 31477 38730 6567 22920 ...</td>\n",
              "    </tr>\n",
              "  </tbody>\n",
              "</table>\n",
              "<p>100000 rows × 2 columns</p>\n",
              "</div>\n",
              "      <button class=\"colab-df-convert\" onclick=\"convertToInteractive('df-856a9954-63d6-4a19-82ec-444928e81008')\"\n",
              "              title=\"Convert this dataframe to an interactive table.\"\n",
              "              style=\"display:none;\">\n",
              "        \n",
              "  <svg xmlns=\"http://www.w3.org/2000/svg\" height=\"24px\"viewBox=\"0 0 24 24\"\n",
              "       width=\"24px\">\n",
              "    <path d=\"M0 0h24v24H0V0z\" fill=\"none\"/>\n",
              "    <path d=\"M18.56 5.44l.94 2.06.94-2.06 2.06-.94-2.06-.94-.94-2.06-.94 2.06-2.06.94zm-11 1L8.5 8.5l.94-2.06 2.06-.94-2.06-.94L8.5 2.5l-.94 2.06-2.06.94zm10 10l.94 2.06.94-2.06 2.06-.94-2.06-.94-.94-2.06-.94 2.06-2.06.94z\"/><path d=\"M17.41 7.96l-1.37-1.37c-.4-.4-.92-.59-1.43-.59-.52 0-1.04.2-1.43.59L10.3 9.45l-7.72 7.72c-.78.78-.78 2.05 0 2.83L4 21.41c.39.39.9.59 1.41.59.51 0 1.02-.2 1.41-.59l7.78-7.78 2.81-2.81c.8-.78.8-2.07 0-2.86zM5.41 20L4 18.59l7.72-7.72 1.47 1.35L5.41 20z\"/>\n",
              "  </svg>\n",
              "      </button>\n",
              "      \n",
              "  <style>\n",
              "    .colab-df-container {\n",
              "      display:flex;\n",
              "      flex-wrap:wrap;\n",
              "      gap: 12px;\n",
              "    }\n",
              "\n",
              "    .colab-df-convert {\n",
              "      background-color: #E8F0FE;\n",
              "      border: none;\n",
              "      border-radius: 50%;\n",
              "      cursor: pointer;\n",
              "      display: none;\n",
              "      fill: #1967D2;\n",
              "      height: 32px;\n",
              "      padding: 0 0 0 0;\n",
              "      width: 32px;\n",
              "    }\n",
              "\n",
              "    .colab-df-convert:hover {\n",
              "      background-color: #E2EBFA;\n",
              "      box-shadow: 0px 1px 2px rgba(60, 64, 67, 0.3), 0px 1px 3px 1px rgba(60, 64, 67, 0.15);\n",
              "      fill: #174EA6;\n",
              "    }\n",
              "\n",
              "    [theme=dark] .colab-df-convert {\n",
              "      background-color: #3B4455;\n",
              "      fill: #D2E3FC;\n",
              "    }\n",
              "\n",
              "    [theme=dark] .colab-df-convert:hover {\n",
              "      background-color: #434B5C;\n",
              "      box-shadow: 0px 1px 3px 1px rgba(0, 0, 0, 0.15);\n",
              "      filter: drop-shadow(0px 1px 2px rgba(0, 0, 0, 0.3));\n",
              "      fill: #FFFFFF;\n",
              "    }\n",
              "  </style>\n",
              "\n",
              "      <script>\n",
              "        const buttonEl =\n",
              "          document.querySelector('#df-856a9954-63d6-4a19-82ec-444928e81008 button.colab-df-convert');\n",
              "        buttonEl.style.display =\n",
              "          google.colab.kernel.accessAllowed ? 'block' : 'none';\n",
              "\n",
              "        async function convertToInteractive(key) {\n",
              "          const element = document.querySelector('#df-856a9954-63d6-4a19-82ec-444928e81008');\n",
              "          const dataTable =\n",
              "            await google.colab.kernel.invokeFunction('convertToInteractive',\n",
              "                                                     [key], {});\n",
              "          if (!dataTable) return;\n",
              "\n",
              "          const docLinkHtml = 'Like what you see? Visit the ' +\n",
              "            '<a target=\"_blank\" href=https://colab.research.google.com/notebooks/data_table.ipynb>data table notebook</a>'\n",
              "            + ' to learn more about interactive tables.';\n",
              "          element.innerHTML = '';\n",
              "          dataTable['output_type'] = 'display_data';\n",
              "          await google.colab.output.renderOutput(dataTable, element);\n",
              "          const docLink = document.createElement('div');\n",
              "          docLink.innerHTML = docLinkHtml;\n",
              "          element.appendChild(docLink);\n",
              "        }\n",
              "      </script>\n",
              "    </div>\n",
              "  </div>\n",
              "  "
            ],
            "text/plain": [
              "       user_id                                         product_id\n",
              "0            1  196 12427 10258 25133 46149 38928 35951 39657 ...\n",
              "1            2  47209 24852 18523 19156 1559 33754 16589 7781 ...\n",
              "2            3  39190 47766 21903 17668 43961 38167 24852 2389...\n",
              "3            7  40852 37602 21137 31683 13198 30391 27690 4727...\n",
              "4           13  27086 4210 27435 43086 42248 14197 34382 41926...\n",
              "...        ...                                                ...\n",
              "99995   206202  38837 12919 17038 16797 41177 17459 22220 4585...\n",
              "99996   206206  29326 21850 45139 38167 24852 23892 6846 24852...\n",
              "99997   206207  44632 36011 13176 39180 33787 33754 48086 2734...\n",
              "99998   206208  34213 13176 21137 43086 35939 47626 35688 3428...\n",
              "99999   206209  9405 24852 16168 39216 31477 38730 6567 22920 ...\n",
              "\n",
              "[100000 rows x 2 columns]"
            ]
          },
          "metadata": {},
          "execution_count": 95
        }
      ]
    }
  ]
}