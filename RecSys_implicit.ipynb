{
  "nbformat": 4,
  "nbformat_minor": 0,
  "metadata": {
    "colab": {
      "name": "RecSys: implicit.ipynb",
      "provenance": [],
      "collapsed_sections": [],
      "authorship_tag": "ABX9TyPfMh6sTYyD0Tf8IHg+n8rJ",
      "include_colab_link": true
    },
    "kernelspec": {
      "name": "python3",
      "display_name": "Python 3"
    },
    "language_info": {
      "name": "python"
    }
  },
  "cells": [
    {
      "cell_type": "markdown",
      "metadata": {
        "id": "view-in-github",
        "colab_type": "text"
      },
      "source": [
        "<a href=\"https://colab.research.google.com/github/SwordForShinobi/Retail-recommender-system/blob/main/RecSys_implicit.ipynb\" target=\"_parent\"><img src=\"https://colab.research.google.com/assets/colab-badge.svg\" alt=\"Open In Colab\"/></a>"
      ]
    },
    {
      "cell_type": "code",
      "execution_count": null,
      "metadata": {
        "id": "CN7d8RzPudoO"
      },
      "outputs": [],
      "source": [
        "import numpy as np\n",
        "import pandas as pd\n",
        "import pickle"
      ]
    },
    {
      "cell_type": "code",
      "source": [
        "!pip install implicit # if you get lucky, you\"ll be able to install it like this\n",
        "!sudo -H python3 -m pip install implicit --no-cache --force-reinstall --log ./implicit.txt # if you won't be so lucky\n",
        "# this precautions are for windows"
      ],
      "metadata": {
        "id": "TBbb_FravMWB"
      },
      "execution_count": null,
      "outputs": []
    },
    {
      "cell_type": "code",
      "execution_count": null,
      "metadata": {
        "id": "MLjQPgjmu53-"
      },
      "outputs": [],
      "source": [
        "class ModelALS:\n",
        "\n",
        "  def __init__(self, factors=None, iterations=None):\n",
        "    self.factors = factors\n",
        "    self.iterations = iterations\n",
        "\n",
        "    if self.factors is not None and self.iterations is not None:\n",
        "      self.model = ALS(self.factors, self.iterations)\n",
        "    else:\n",
        "      raise ValueError('Please set parameters when create class')\n",
        "\n",
        "  def prepare_matrix_to_fit(self, df=None):\n",
        "    self.df = df\n",
        "    if self.df is not None: # передаем сюда ЗАКОДИРОВАННЫЕ столбцы\n",
        "      row = np.array(self.df[self.df.columns[3]].values.tolist()) # users\n",
        "      col = np.array(self.df[self.df.columns[4]].values.tolist()) # products\n",
        "      data = np.array(self.df[self.df.columns[5]].values.tolist()) # how many purchased\n",
        "      self.matrix = csr((data, (row, col)), dtype=np.float32)\n",
        "      return self.matrix\n",
        "    else:\n",
        "      raise ValueError('Please pass dataframe to work with')\n",
        "  \n",
        "  def fit_model(self):\n",
        "    self.model.fit(self.matrix.T)\n",
        "\n",
        "  def predict_user(self, user, n, filter_already_liked_items=True):\n",
        "    '''user = particular user id(integer)\n",
        "        n = amount of items to predict(integer)'''\n",
        "    code_user = self.df[self.df[self.df.columns[0]] == user][self.df.columns[3]].unique()[0]\n",
        "    recommendations = [t[0] for t in self.model.recommend(code_user, self.matrix, n, filter_already_liked_items)]\n",
        "    recs = self.df[self.df[self.df.columns[4]].isin(recommendations)][self.df.columns[1]].unique().tolist()\n",
        "    return f'For user_id={user}, we recommend next items, ids: {recs}'\n",
        "\n",
        "  def predict_many(self, users, n, filter_already_liked_items=True):\n",
        "    '''users = users you wish to predict(list)\n",
        "        n = amount of items to predict for each user(integer)'''\n",
        "    self.users = users\n",
        "    self.preds_list = []\n",
        "    users_code = self.df[self.df[self.df.columns[0]].isin(users)][self.df.columns[3]].unique().tolist()\n",
        "    decode_df = self.df[[self.df.columns[4], self.df.columns[1]]].drop_duplicates() # создадим короткий дф для раскодировки. Ниже эксперементально проверенно:\n",
        "    # он очень сильно ускоряет процесс\n",
        "    for i in users_code:\n",
        "      recommendations = [t[0] for t in self.model.recommend(i, self.matrix, n, filter_already_liked_items, recalculate_user=True)]\n",
        "      self.preds_list.append(recommendations)\n",
        "    return self.preds_list\n",
        "\n",
        "  def decode_predictions(self, preds_list = None):\n",
        "    self.preds_list = preds_list\n",
        "    if self.preds_list is not None:\n",
        "      decode_df = self.df[[self.df.columns[4], self.df.columns[1]]].drop_duplicates() # создадим короткий дф для раскодировки. Ниже экспериментально проверенно\n",
        "      decode = []\n",
        "\n",
        "      for i in self.preds_list:\n",
        "        decoded_string = decode_df[decode_df['product_id(coded)'].isin(i)]['product_id'].unique().tolist()\n",
        "        decode.append(decoded_string)\n",
        "      # Сразу уберем пунктуацию для сохр-я и отправки на кэггл:\n",
        "      characters_to_remove = '[],'\n",
        "      clear_items_list = []\n",
        "\n",
        "      for string in decode:\n",
        "        for i in characters_to_remove:\n",
        "          string = str(string).replace(i, '')\n",
        "        clear_items_list.append(string)\n",
        "  \n",
        "      answer = pd.DataFrame(np.array(self.users).reshape(len(self.users), 1), columns=['user_id'])\n",
        "      answer['product_id'] = clear_items_list\n",
        "      return answer\n",
        "    else:\n",
        "      raise ValueError('Use predict_many() method 1st then pass predictions')\n",
        "\n",
        "  def save_model(self, path=None):\n",
        "    if path is not None:\n",
        "      with open(path, 'wb') as directory:\n",
        "        pickle.dump(self.model, directory)\n",
        "    else:\n",
        "      raise ValueError('Please input desirable path/filename to save to')\n",
        "    \n",
        "  def load_model(self, path=None):\n",
        "    if path is not None:\n",
        "      with open(path, 'rb') as model_probe:\n",
        "        self.model = pickle.load(model_probe)\n",
        "    else:\n",
        "      raise ValueError('Please input desirable path/filename to load from')"
      ]
    },
    {
      "cell_type": "code",
      "execution_count": null,
      "metadata": {
        "id": "c1vHptAojLYE"
      },
      "outputs": [],
      "source": [
        "model = ModelALS(30, 8)"
      ]
    },
    {
      "cell_type": "code",
      "source": [
        "matrix = model.prepare_matrix_to_fit(to_fit)"
      ],
      "metadata": {
        "id": "uEMiNw-quqYz"
      },
      "execution_count": null,
      "outputs": []
    },
    {
      "cell_type": "code",
      "source": [
        "model.fit_model()"
      ],
      "metadata": {
        "id": "d2W49YpcuuLD"
      },
      "execution_count": null,
      "outputs": []
    },
    {
      "cell_type": "code",
      "execution_count": null,
      "metadata": {
        "id": "zVAJkeG256Qv"
      },
      "outputs": [],
      "source": [
        "model.save_model('/content/drive/MyDrive/Skillbox/coursework_Recsys/Saved_models/probe(30_8)')"
      ]
    },
    {
      "cell_type": "code",
      "execution_count": null,
      "metadata": {
        "id": "7aviY4f46lhi"
      },
      "outputs": [],
      "source": [
        "model.load_model('/content/drive/MyDrive/Skillbox/coursework_Recsys/Saved_models/probe(30_8)')"
      ]
    },
    {
      "cell_type": "code",
      "execution_count": null,
      "metadata": {
        "id": "_CfjBvwJdLNT"
      },
      "outputs": [],
      "source": [
        "model.predict_user(2653, 10)"
      ]
    },
    {
      "cell_type": "code",
      "execution_count": null,
      "metadata": {
        "id": "IVippZmNmQLM"
      },
      "outputs": [],
      "source": [
        "preds = model.predict_many(to_fit['user_id'].unique().tolist(), 10)"
      ]
    }
  ]
}