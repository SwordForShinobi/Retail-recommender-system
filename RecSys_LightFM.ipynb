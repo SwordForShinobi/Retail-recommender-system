{
  "nbformat": 4,
  "nbformat_minor": 0,
  "metadata": {
    "colab": {
      "name": "RecSys: LightFM.ipynb",
      "provenance": [],
      "collapsed_sections": [
        "ej0LmC58WH4y"
      ],
      "authorship_tag": "ABX9TyMV0l1VUlxQRlULzwT/+aLS",
      "include_colab_link": true
    },
    "kernelspec": {
      "name": "python3",
      "display_name": "Python 3"
    },
    "language_info": {
      "name": "python"
    }
  },
  "cells": [
    {
      "cell_type": "markdown",
      "metadata": {
        "id": "view-in-github",
        "colab_type": "text"
      },
      "source": [
        "<a href=\"https://colab.research.google.com/github/SwordForShinobi/Retail-recommender-system/blob/main/RecSys_LightFM.ipynb\" target=\"_parent\"><img src=\"https://colab.research.google.com/assets/colab-badge.svg\" alt=\"Open In Colab\"/></a>"
      ]
    },
    {
      "cell_type": "markdown",
      "source": [
        "Pure Collaborative Filtering i.e. without features. Experimentally it gave the best roc-auc score on Instacart case. So we just use only it for final predictions"
      ],
      "metadata": {
        "id": "IJOOJcmjV3cE"
      }
    },
    {
      "cell_type": "code",
      "source": [
        "!pip install lightfm\n",
        "\n",
        "import pandas as pd\n",
        "import numpy as np\n",
        "from scipy.sparse import coo_matrix\n",
        "from lightfm import LightFM"
      ],
      "metadata": {
        "id": "TJHmip5NV5gW"
      },
      "execution_count": null,
      "outputs": []
    },
    {
      "cell_type": "markdown",
      "source": [
        "# 'Backend' functions\n",
        "just launch"
      ],
      "metadata": {
        "id": "ej0LmC58WH4y"
      }
    },
    {
      "cell_type": "code",
      "source": [
        "def get_user_list(df, user_column):\n",
        "    \"\"\"\n",
        "    \n",
        "    creating a list of user from dataframe df, user_column is a column \n",
        "    consisting of users in the dataframe df\n",
        "    \n",
        "    \"\"\"\n",
        "    \n",
        "    return np.sort(df[user_column].unique())\n",
        "\n",
        "def get_item_list(df, item_name_column):\n",
        "    \n",
        "    \"\"\"\n",
        "    \n",
        "    creating a list of items from dataframe df, item_column is a column \n",
        "    consisting of items in the dataframe df\n",
        "    \n",
        "    return to item_id_list and item_id2name_mapping\n",
        "    \n",
        "    \"\"\"\n",
        "    \n",
        "    item_list = df[item_name_column].unique()\n",
        "    \n",
        "    \n",
        "    return item_list\n",
        "\n",
        "\n",
        "def id_mappings(user_list, item_list):\n",
        "    \"\"\"\n",
        "    \n",
        "    Create id mappings to convert user_id, item_id, and feature_id\n",
        "    \n",
        "    \"\"\"\n",
        "    user_to_index_mapping = {}\n",
        "    index_to_user_mapping = {}\n",
        "    for user_index, user_id in enumerate(user_list):\n",
        "        user_to_index_mapping[user_id] = user_index\n",
        "        index_to_user_mapping[user_index] = user_id\n",
        "        \n",
        "    item_to_index_mapping = {}\n",
        "    index_to_item_mapping = {}\n",
        "    for item_index, item_id in enumerate(item_list):\n",
        "        item_to_index_mapping[item_id] = item_index\n",
        "        index_to_item_mapping[item_index] = item_id\n",
        "        \n",
        "    return user_to_index_mapping, index_to_user_mapping, \\\n",
        "           item_to_index_mapping, index_to_item_mapping, \\\n",
        "\n",
        "\n",
        "def get_user_product_interaction(user_to_product):\n",
        "\n",
        "    user_to_product[\"product_count\"] = 1\n",
        "    user_to_product_rating_train = user_to_product.groupby([\"user_id\", \"product_id\"], as_index = False)[\"product_count\"].sum()\n",
        "     \n",
        "    return user_to_product_rating_train\n",
        "# короче вот где весь прикол: строки и столбцы матрицы - это индексы продуктов и юзеров. Индексы в дф, Карл,\n",
        "# только тогда эта библиотека понимает и нормально работает.\n",
        "def get_interaction_matrix(df, df_column_as_row, df_column_as_col, df_column_as_value, row_indexing_map,\n",
        "                          col_indexing_map):\n",
        "    \n",
        "    row = df[df_column_as_row].apply(lambda x: row_indexing_map[x]).values\n",
        "    col = df[df_column_as_col].apply(lambda x: col_indexing_map[x]).values\n",
        "    value = df[df_column_as_value].values\n",
        "    \n",
        "    return coo_matrix((value, (row, col)), shape = (len(row_indexing_map), len(col_indexing_map)))\n"
      ],
      "metadata": {
        "id": "891UdR8JWDmn"
      },
      "execution_count": 3,
      "outputs": []
    },
    {
      "cell_type": "markdown",
      "source": [
        "# Pipeline itself"
      ],
      "metadata": {
        "id": "PvxrdDofWgpd"
      }
    },
    {
      "cell_type": "code",
      "source": [
        "trans = pd.read_csv('your_directory') # read file from this repository main/Data/transactions_probe.csv"
      ],
      "metadata": {
        "id": "Dej6cedQWuvw"
      },
      "execution_count": 5,
      "outputs": []
    },
    {
      "cell_type": "code",
      "source": [
        "users = get_user_list(trans, \"user_id\")\n",
        "items = get_item_list(trans, \"product_id\")"
      ],
      "metadata": {
        "id": "4FgjbHLEzcR3"
      },
      "execution_count": 6,
      "outputs": []
    },
    {
      "cell_type": "code",
      "source": [
        "user_to_index_mapping, index_to_user_mapping, \\\n",
        "           item_to_index_mapping, index_to_item_mapping = id_mappings(users, items)"
      ],
      "metadata": {
        "id": "iZ6wS-BQzqok"
      },
      "execution_count": 7,
      "outputs": []
    },
    {
      "cell_type": "code",
      "source": [
        "user_to_product_rating_train = get_user_product_interaction(trans)"
      ],
      "metadata": {
        "id": "seXiFp_13CL6"
      },
      "execution_count": 8,
      "outputs": []
    },
    {
      "cell_type": "code",
      "source": [
        "user_to_product_interaction_train = get_interaction_matrix(user_to_product_rating_train, \"user_id\", \n",
        "                                                    \"product_id\", \"product_count\", user_to_index_mapping, item_to_index_mapping)"
      ],
      "metadata": {
        "id": "1U_cXWzW0E6C"
      },
      "execution_count": 9,
      "outputs": []
    },
    {
      "cell_type": "code",
      "source": [
        "model_without_features = LightFM(loss = \"warp\")\n",
        "model_without_features.fit(user_to_product_interaction_train,\n",
        "          user_features=None, \n",
        "          item_features=None, \n",
        "          sample_weight=None, \n",
        "          epochs=10, \n",
        "          num_threads=4,\n",
        "          verbose=1)"
      ],
      "metadata": {
        "colab": {
          "base_uri": "https://localhost:8080/"
        },
        "id": "VUq22CQdR5oj",
        "outputId": "0b0f35ac-b049-46f9-b876-46aa5b6eb1d3"
      },
      "execution_count": 10,
      "outputs": [
        {
          "output_type": "stream",
          "name": "stderr",
          "text": [
            "Epoch: 100%|██████████| 10/10 [00:00<00:00, 925.51it/s]\n"
          ]
        },
        {
          "output_type": "execute_result",
          "data": {
            "text/plain": [
              "<lightfm.lightfm.LightFM at 0x7fb4a53e7650>"
            ]
          },
          "metadata": {},
          "execution_count": 10
        }
      ]
    },
    {
      "cell_type": "code",
      "source": [
        "class recommendation_sampling:\n",
        "    \n",
        "    def __init__(self, model, items = items, user_to_product_interaction_matrix = user_to_product_interaction_train, \n",
        "                user2index_map = user_to_index_mapping):\n",
        "        \n",
        "        self.user_to_product_interaction_matrix = user_to_product_interaction_matrix\n",
        "        self.model = model\n",
        "        self.items = items\n",
        "        self.user2index_map = user2index_map\n",
        "    \n",
        "    def recommendation_for_user(self, user):\n",
        "        \n",
        "        # getting the userindex\n",
        "        \n",
        "        userindex = self.user2index_map.get(user, None)\n",
        "        \n",
        "        if userindex == None:\n",
        "            return None\n",
        "        \n",
        "        users = userindex\n",
        "        \n",
        "        # products already bought\n",
        "        \n",
        "        known_positives = self.items[self.user_to_product_interaction_matrix.tocsr()[userindex].indices]\n",
        "        \n",
        "        # scores from model prediction\n",
        "        scores = self.model.predict(user_ids = users, item_ids = np.arange(self.user_to_product_interaction_matrix.shape[1]))\n",
        "        \n",
        "        # top items\n",
        "        \n",
        "        top_items = self.items[np.argsort(-scores)]\n",
        "        \n",
        "        # printing out the result\n",
        "        print(\"User %s\" % user)\n",
        "        print(\"     Known positives:\")\n",
        "        \n",
        "        for x in known_positives[:10]:\n",
        "            print(\"                  %s\" % x)\n",
        "            \n",
        "            \n",
        "        print(\"     Recommended:\")\n",
        "        \n",
        "        for x in top_items[:10]:\n",
        "            print(\"                  %s\" % x)\n",
        "\n",
        "    def recommendation_for_many(self, users):\n",
        "\n",
        "      predictions = []\n",
        "\n",
        "      for i in users:\n",
        "        user = self.user2index_map.get(i)\n",
        "        scores = self.model.predict(user_ids = int(user), item_ids = np.arange(self.user_to_product_interaction_matrix.shape[1]))\n",
        "        top_items = self.items[np.argsort(-scores)]\n",
        "        predictions.append(top_items[:10].tolist())\n",
        "      \n",
        "      return predictions "
      ],
      "metadata": {
        "id": "uzeNQHdp9z0U"
      },
      "execution_count": 22,
      "outputs": []
    },
    {
      "cell_type": "code",
      "source": [
        "recom = recommendation_sampling(model = model_without_features)"
      ],
      "metadata": {
        "id": "JvMUxIrrXXAx"
      },
      "execution_count": 23,
      "outputs": []
    },
    {
      "cell_type": "code",
      "source": [
        "recom.recommendation_for_user(3)"
      ],
      "metadata": {
        "colab": {
          "base_uri": "https://localhost:8080/"
        },
        "id": "Usl0BmAeX1Oc",
        "outputId": "b9d53731-2a8f-49a1-8b52-9b19c6873dab"
      },
      "execution_count": 24,
      "outputs": [
        {
          "output_type": "stream",
          "name": "stdout",
          "text": [
            "User 3\n",
            "     Known positives:\n",
            "                  47766\n",
            "                  16797\n",
            "                  9387\n",
            "                  17668\n",
            "                  15143\n",
            "                  39190\n",
            "                  21903\n",
            "                  39922\n",
            "                  24810\n",
            "                  32402\n",
            "     Recommended:\n",
            "                  16797\n",
            "                  23650\n",
            "                  38596\n",
            "                  42265\n",
            "                  39190\n",
            "                  42557\n",
            "                  16965\n",
            "                  49683\n",
            "                  9387\n",
            "                  24810\n"
          ]
        }
      ]
    },
    {
      "cell_type": "code",
      "source": [
        "predicts = recom.recommendation_for_many(trans['user_id'].unique())"
      ],
      "metadata": {
        "id": "nHBZIaNAY7WC"
      },
      "execution_count": 25,
      "outputs": []
    },
    {
      "cell_type": "code",
      "source": [
        "# punctuation filter, not necessary\n",
        "characters_to_remove = '[],'\n",
        "clear_items_list = []\n",
        "\n",
        "for string in predicts:\n",
        "  for i in characters_to_remove:\n",
        "    string = str(string).replace(i, '')\n",
        "  clear_items_list.append(string)\n",
        "answer = pd.DataFrame(trans['user_id'].unique().reshape(len(trans.user_id.unique()), 1), columns=['user_id'])\n",
        "answer['product_id'] = clear_items_list"
      ],
      "metadata": {
        "id": "FVuvuhFgdDRC"
      },
      "execution_count": 30,
      "outputs": []
    },
    {
      "cell_type": "code",
      "source": [
        "answer"
      ],
      "metadata": {
        "colab": {
          "base_uri": "https://localhost:8080/",
          "height": 300
        },
        "id": "AQXy2XPOb4jo",
        "outputId": "59bb3dd3-ba52-4af5-9c0d-305d8f7fe680"
      },
      "execution_count": 31,
      "outputs": [
        {
          "output_type": "execute_result",
          "data": {
            "text/html": [
              "\n",
              "  <div id=\"df-d62a5de8-fa93-4971-92b0-3cbc9867c41d\">\n",
              "    <div class=\"colab-df-container\">\n",
              "      <div>\n",
              "<style scoped>\n",
              "    .dataframe tbody tr th:only-of-type {\n",
              "        vertical-align: middle;\n",
              "    }\n",
              "\n",
              "    .dataframe tbody tr th {\n",
              "        vertical-align: top;\n",
              "    }\n",
              "\n",
              "    .dataframe thead th {\n",
              "        text-align: right;\n",
              "    }\n",
              "</style>\n",
              "<table border=\"1\" class=\"dataframe\">\n",
              "  <thead>\n",
              "    <tr style=\"text-align: right;\">\n",
              "      <th></th>\n",
              "      <th>user_id</th>\n",
              "      <th>product_id</th>\n",
              "    </tr>\n",
              "  </thead>\n",
              "  <tbody>\n",
              "    <tr>\n",
              "      <th>0</th>\n",
              "      <td>1</td>\n",
              "      <td>13176 16797 196 42265 49235 39657 47766 13032 ...</td>\n",
              "    </tr>\n",
              "    <tr>\n",
              "      <th>1</th>\n",
              "      <td>2</td>\n",
              "      <td>12000 37646 9124 30489 45948 32139 33276 46676...</td>\n",
              "    </tr>\n",
              "    <tr>\n",
              "      <th>2</th>\n",
              "      <td>3</td>\n",
              "      <td>16797 23650 38596 42265 39190 42557 16965 4968...</td>\n",
              "    </tr>\n",
              "    <tr>\n",
              "      <th>3</th>\n",
              "      <td>7</td>\n",
              "      <td>29871 42828 10895 33740 19019 10504 31683 1967...</td>\n",
              "    </tr>\n",
              "    <tr>\n",
              "      <th>4</th>\n",
              "      <td>13</td>\n",
              "      <td>4210 31372 27435 41926 5618 41351 32850 44142 ...</td>\n",
              "    </tr>\n",
              "    <tr>\n",
              "      <th>5</th>\n",
              "      <td>14</td>\n",
              "      <td>11348 10549 4489 27862 17923 43127 12168 9076 ...</td>\n",
              "    </tr>\n",
              "    <tr>\n",
              "      <th>6</th>\n",
              "      <td>15</td>\n",
              "      <td>42265 196 13176 49235 11266 48142 1747 49683 3...</td>\n",
              "    </tr>\n",
              "    <tr>\n",
              "      <th>7</th>\n",
              "      <td>17</td>\n",
              "      <td>15820 30992 9641 46844 9387 36463 16797 7350 4...</td>\n",
              "    </tr>\n",
              "  </tbody>\n",
              "</table>\n",
              "</div>\n",
              "      <button class=\"colab-df-convert\" onclick=\"convertToInteractive('df-d62a5de8-fa93-4971-92b0-3cbc9867c41d')\"\n",
              "              title=\"Convert this dataframe to an interactive table.\"\n",
              "              style=\"display:none;\">\n",
              "        \n",
              "  <svg xmlns=\"http://www.w3.org/2000/svg\" height=\"24px\"viewBox=\"0 0 24 24\"\n",
              "       width=\"24px\">\n",
              "    <path d=\"M0 0h24v24H0V0z\" fill=\"none\"/>\n",
              "    <path d=\"M18.56 5.44l.94 2.06.94-2.06 2.06-.94-2.06-.94-.94-2.06-.94 2.06-2.06.94zm-11 1L8.5 8.5l.94-2.06 2.06-.94-2.06-.94L8.5 2.5l-.94 2.06-2.06.94zm10 10l.94 2.06.94-2.06 2.06-.94-2.06-.94-.94-2.06-.94 2.06-2.06.94z\"/><path d=\"M17.41 7.96l-1.37-1.37c-.4-.4-.92-.59-1.43-.59-.52 0-1.04.2-1.43.59L10.3 9.45l-7.72 7.72c-.78.78-.78 2.05 0 2.83L4 21.41c.39.39.9.59 1.41.59.51 0 1.02-.2 1.41-.59l7.78-7.78 2.81-2.81c.8-.78.8-2.07 0-2.86zM5.41 20L4 18.59l7.72-7.72 1.47 1.35L5.41 20z\"/>\n",
              "  </svg>\n",
              "      </button>\n",
              "      \n",
              "  <style>\n",
              "    .colab-df-container {\n",
              "      display:flex;\n",
              "      flex-wrap:wrap;\n",
              "      gap: 12px;\n",
              "    }\n",
              "\n",
              "    .colab-df-convert {\n",
              "      background-color: #E8F0FE;\n",
              "      border: none;\n",
              "      border-radius: 50%;\n",
              "      cursor: pointer;\n",
              "      display: none;\n",
              "      fill: #1967D2;\n",
              "      height: 32px;\n",
              "      padding: 0 0 0 0;\n",
              "      width: 32px;\n",
              "    }\n",
              "\n",
              "    .colab-df-convert:hover {\n",
              "      background-color: #E2EBFA;\n",
              "      box-shadow: 0px 1px 2px rgba(60, 64, 67, 0.3), 0px 1px 3px 1px rgba(60, 64, 67, 0.15);\n",
              "      fill: #174EA6;\n",
              "    }\n",
              "\n",
              "    [theme=dark] .colab-df-convert {\n",
              "      background-color: #3B4455;\n",
              "      fill: #D2E3FC;\n",
              "    }\n",
              "\n",
              "    [theme=dark] .colab-df-convert:hover {\n",
              "      background-color: #434B5C;\n",
              "      box-shadow: 0px 1px 3px 1px rgba(0, 0, 0, 0.15);\n",
              "      filter: drop-shadow(0px 1px 2px rgba(0, 0, 0, 0.3));\n",
              "      fill: #FFFFFF;\n",
              "    }\n",
              "  </style>\n",
              "\n",
              "      <script>\n",
              "        const buttonEl =\n",
              "          document.querySelector('#df-d62a5de8-fa93-4971-92b0-3cbc9867c41d button.colab-df-convert');\n",
              "        buttonEl.style.display =\n",
              "          google.colab.kernel.accessAllowed ? 'block' : 'none';\n",
              "\n",
              "        async function convertToInteractive(key) {\n",
              "          const element = document.querySelector('#df-d62a5de8-fa93-4971-92b0-3cbc9867c41d');\n",
              "          const dataTable =\n",
              "            await google.colab.kernel.invokeFunction('convertToInteractive',\n",
              "                                                     [key], {});\n",
              "          if (!dataTable) return;\n",
              "\n",
              "          const docLinkHtml = 'Like what you see? Visit the ' +\n",
              "            '<a target=\"_blank\" href=https://colab.research.google.com/notebooks/data_table.ipynb>data table notebook</a>'\n",
              "            + ' to learn more about interactive tables.';\n",
              "          element.innerHTML = '';\n",
              "          dataTable['output_type'] = 'display_data';\n",
              "          await google.colab.output.renderOutput(dataTable, element);\n",
              "          const docLink = document.createElement('div');\n",
              "          docLink.innerHTML = docLinkHtml;\n",
              "          element.appendChild(docLink);\n",
              "        }\n",
              "      </script>\n",
              "    </div>\n",
              "  </div>\n",
              "  "
            ],
            "text/plain": [
              "   user_id                                         product_id\n",
              "0        1  13176 16797 196 42265 49235 39657 47766 13032 ...\n",
              "1        2  12000 37646 9124 30489 45948 32139 33276 46676...\n",
              "2        3  16797 23650 38596 42265 39190 42557 16965 4968...\n",
              "3        7  29871 42828 10895 33740 19019 10504 31683 1967...\n",
              "4       13  4210 31372 27435 41926 5618 41351 32850 44142 ...\n",
              "5       14  11348 10549 4489 27862 17923 43127 12168 9076 ...\n",
              "6       15  42265 196 13176 49235 11266 48142 1747 49683 3...\n",
              "7       17  15820 30992 9641 46844 9387 36463 16797 7350 4..."
            ]
          },
          "metadata": {},
          "execution_count": 31
        }
      ]
    }
  ]
}